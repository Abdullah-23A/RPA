{
 "cells": [
  {
   "cell_type": "markdown",
   "id": "09ba299b-3d9c-4b34-8f90-dccfc13bf2e6",
   "metadata": {},
   "source": [
    "# Setting up your developer environment\n",
    "\n",
    "\n",
    "[notion](https://loud-iberis-61b.notion.site/Setting-up-your-developer-environment-12741d33cda9808fa7bae234ef59d929?pvs=4) |\n",
    "\n",
    "Created by Abdulwahab Alanazi\n",
    "\n",
    "[LinkedIn](http://linkedin.com/in/abdulwahabdev) | [GitHub](https://github.com/AbdulwahabDev)"
   ]
  }
 ],
 "metadata": {
  "kernelspec": {
   "display_name": "Python 3 (ipykernel)",
   "language": "python",
   "name": "python3"
  },
  "language_info": {
   "codemirror_mode": {
    "name": "ipython",
    "version": 3
   },
   "file_extension": ".py",
   "mimetype": "text/x-python",
   "name": "python",
   "nbconvert_exporter": "python",
   "pygments_lexer": "ipython3",
   "version": "3.10.14"
  }
 },
 "nbformat": 4,
 "nbformat_minor": 5
}
