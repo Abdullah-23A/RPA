{
 "cells": [
  {
   "cell_type": "markdown",
   "id": "83e72362-5ee5-4f44-8d8a-aeec918c9873",
   "metadata": {},
   "source": [
    "# Error Handling and File Handling \n",
    "\n",
    "\n",
    "[notion](https://loud-iberis-61b.notion.site/Error-Handling-and-File-Handling-12541d33cda9804d8c35c97b6d6f131f?pvs=4) |\n",
    "\n",
    "Created by Abdulwahab Alanazi\n",
    "\n",
    "[LinkedIn](http://linkedin.com/in/abdulwahabdev) | [GitHub](https://github.com/AbdulwahabDev)"
   ]
  },
  {
   "cell_type": "code",
   "execution_count": null,
   "id": "427eca9a-d14c-4e62-aea9-9cae652a24c0",
   "metadata": {},
   "outputs": [],
   "source": []
  }
 ],
 "metadata": {
  "kernelspec": {
   "display_name": "Python 3 (ipykernel)",
   "language": "python",
   "name": "python3"
  },
  "language_info": {
   "codemirror_mode": {
    "name": "ipython",
    "version": 3
   },
   "file_extension": ".py",
   "mimetype": "text/x-python",
   "name": "python",
   "nbconvert_exporter": "python",
   "pygments_lexer": "ipython3",
   "version": "3.10.14"
  }
 },
 "nbformat": 4,
 "nbformat_minor": 5
}
