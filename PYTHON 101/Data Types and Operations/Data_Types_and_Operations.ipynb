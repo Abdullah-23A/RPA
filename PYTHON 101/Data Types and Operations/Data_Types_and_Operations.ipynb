{
 "cells": [
  {
   "cell_type": "markdown",
   "id": "ef055e62-9097-48ad-9877-47097c1e7821",
   "metadata": {},
   "source": [
    "# Data Types and Operations\n",
    "\n",
    "[notion](https://loud-iberis-61b.notion.site/Data-Types-and-Operations-12541d33cda980c983b0d4511916160c?pvs=4) |\n",
    "\n",
    "Created by Abdulwahab Alanazi\n",
    "\n",
    "[LinkedIn](http://linkedin.com/in/abdulwahabdev) | [GitHub](https://github.com/AbdulwahabDev)\n"
   ]
  },
  {
   "cell_type": "code",
   "execution_count": null,
   "id": "a096fc19-21ff-429c-a50f-fe4eea38662b",
   "metadata": {},
   "outputs": [],
   "source": []
  }
 ],
 "metadata": {
  "kernelspec": {
   "display_name": "Python 3 (ipykernel)",
   "language": "python",
   "name": "python3"
  },
  "language_info": {
   "codemirror_mode": {
    "name": "ipython",
    "version": 3
   },
   "file_extension": ".py",
   "mimetype": "text/x-python",
   "name": "python",
   "nbconvert_exporter": "python",
   "pygments_lexer": "ipython3",
   "version": "3.10.14"
  }
 },
 "nbformat": 4,
 "nbformat_minor": 5
}
